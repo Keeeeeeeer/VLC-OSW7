{
 "cells": [
  {
   "cell_type": "code",
   "execution_count": 1,
   "id": "230de6ef",
   "metadata": {},
   "outputs": [
    {
     "name": "stdout",
     "output_type": "stream",
     "text": [
      "Requirement already satisfied: python-vlc in d:\\anaconda python\\lib\\site-packages (3.0.18122)\n",
      "Note: you may need to restart the kernel to use updated packages.\n"
     ]
    }
   ],
   "source": [
    "pip install python-vlc"
   ]
  },
  {
   "cell_type": "code",
   "execution_count": 2,
   "id": "83c0bb0d",
   "metadata": {},
   "outputs": [
    {
     "name": "stdout",
     "output_type": "stream",
     "text": [
      "Name: python-vlc\n",
      "Version: 3.0.18122\n",
      "Summary: VLC bindings for python.\n",
      "Home-page: http://wiki.videolan.org/PythonBinding\n",
      "Author: Olivier Aubert\n",
      "Author-email: contact@olivieraubert.net\n",
      "License: LGPL-2.1+\n",
      "Location: d:\\anaconda python\\lib\\site-packages\n",
      "Requires: \n",
      "Required-by: \n",
      "Note: you may need to restart the kernel to use updated packages.\n"
     ]
    }
   ],
   "source": [
    "pip show python-vlc"
   ]
  },
  {
   "cell_type": "code",
   "execution_count": null,
   "id": "88cf86b5",
   "metadata": {},
   "outputs": [],
   "source": []
  }
 ],
 "metadata": {
  "kernelspec": {
   "display_name": "Python 3 (ipykernel)",
   "language": "python",
   "name": "python3"
  },
  "language_info": {
   "codemirror_mode": {
    "name": "ipython",
    "version": 3
   },
   "file_extension": ".py",
   "mimetype": "text/x-python",
   "name": "python",
   "nbconvert_exporter": "python",
   "pygments_lexer": "ipython3",
   "version": "3.10.9"
  }
 },
 "nbformat": 4,
 "nbformat_minor": 5
}
